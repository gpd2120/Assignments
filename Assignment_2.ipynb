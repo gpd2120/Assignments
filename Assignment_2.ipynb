{
 "cells": [
  {
   "cell_type": "markdown",
   "id": "3614a3a5-518e-4a01-8f4c-6c5a25239f2d",
   "metadata": {},
   "source": [
    "## Part 1: Lists"
   ]
  },
  {
   "cell_type": "markdown",
   "id": "2fc399fc-2a2e-4dc9-a9a8-89369c014ae8",
   "metadata": {},
   "source": [
    "#### 1)"
   ]
  },
  {
   "cell_type": "code",
   "execution_count": 16,
   "id": "004b5ba1-4bd5-435f-8b6c-d546df0a9cd2",
   "metadata": {},
   "outputs": [
    {
     "data": {
      "text/plain": [
       "['Mercury', 'Venus', 'Earth', 'Mars', 'Jupiter', 'Saturn', 'Uranus', 'Neptune']"
      ]
     },
     "execution_count": 16,
     "metadata": {},
     "output_type": "execute_result"
    }
   ],
   "source": [
    "p= ['Mercury', 'Venus', 'Earth', 'Mars', 'Jupiter', 'Saturn', 'Uranus', 'Neptune']\n",
    "p"
   ]
  },
  {
   "cell_type": "markdown",
   "id": "9f78792c-86d6-41b2-b521-ccad7c952df5",
   "metadata": {},
   "source": [
    "#### 2)"
   ]
  },
  {
   "cell_type": "code",
   "execution_count": 17,
   "id": "23d8a0d3-802c-4300-a4bc-cf09358343b4",
   "metadata": {},
   "outputs": [
    {
     "data": {
      "text/plain": [
       "8"
      ]
     },
     "execution_count": 17,
     "metadata": {},
     "output_type": "execute_result"
    }
   ],
   "source": [
    "len(p)"
   ]
  },
  {
   "cell_type": "markdown",
   "id": "f6ef6bae-462c-41f3-9c28-b2655f2e99e3",
   "metadata": {},
   "source": [
    "#### 3)"
   ]
  },
  {
   "cell_type": "code",
   "execution_count": 18,
   "id": "b7905b25-048a-47ce-935a-4b4933cd93d8",
   "metadata": {},
   "outputs": [
    {
     "data": {
      "text/plain": [
       "['Mercury', 'Venus', 'Earth', 'Mars']"
      ]
     },
     "execution_count": 18,
     "metadata": {},
     "output_type": "execute_result"
    }
   ],
   "source": [
    "p[0:4]"
   ]
  },
  {
   "cell_type": "markdown",
   "id": "25ebe4b9-9b7b-4eb7-9b17-1b068a4d8690",
   "metadata": {},
   "source": [
    "#### 4)"
   ]
  },
  {
   "cell_type": "code",
   "execution_count": 21,
   "id": "047c5ee3-92d9-4515-bafb-fa6f95f7025a",
   "metadata": {},
   "outputs": [
    {
     "name": "stdout",
     "output_type": "stream",
     "text": [
      "Venus\n",
      "Mars\n",
      "Uranus\n"
     ]
    }
   ],
   "source": [
    "for planet in p:\n",
    "    if planet.endswith('s'):\n",
    "        print(planet)"
   ]
  },
  {
   "cell_type": "markdown",
   "id": "d4ef9261-a246-4bed-aede-16ac2eb41d4c",
   "metadata": {},
   "source": [
    "## Part 2: Functions"
   ]
  },
  {
   "cell_type": "markdown",
   "id": "8a29bc9c-c674-4355-961e-ee09bbe63ec3",
   "metadata": {},
   "source": [
    "#### 1)"
   ]
  },
  {
   "cell_type": "code",
   "execution_count": 25,
   "id": "6398ced1-52f3-4a34-b52b-66d30fa7a9cd",
   "metadata": {},
   "outputs": [],
   "source": [
    "def convert_C_to_K(temperatureC):\n",
    "    \"\"\" return kelvin to temperatureC \"\"\"\n",
    "    return (temperatureC +273.15)"
   ]
  },
  {
   "cell_type": "code",
   "execution_count": 26,
   "id": "30d69049-8d31-47c6-9443-83f7f1d90c07",
   "metadata": {},
   "outputs": [],
   "source": [
    "def convert_K_to_C(temperatureK):\n",
    "    \"\"\" return celcius to temperatureK \"\"\"\n",
    "    return (temperatureK -273.15)"
   ]
  },
  {
   "cell_type": "markdown",
   "id": "33c080be-c299-4004-9dad-c94f8cddf434",
   "metadata": {},
   "source": [
    "#### 2)"
   ]
  },
  {
   "cell_type": "code",
   "execution_count": 1,
   "id": "00620629-3d12-448d-b493-c9532f28e2c0",
   "metadata": {},
   "outputs": [],
   "source": [
    "def convert_C_or_K_to_F(temperature, temperatureC=False):\n",
    "    \"\"\" A function to return a temperature in F \"\"\"\n",
    "    if temperatureC:\n",
    "        temperatureF = (temperature * 9/5) +32\n",
    "    else: \n",
    "        temperatureF = ((temperature - 273.15) *9/5) +32\n",
    "    return temperatureF"
   ]
  },
  {
   "cell_type": "markdown",
   "id": "81f28fdd-7e41-423c-a99a-aa08a7117aa3",
   "metadata": {},
   "source": [
    "#### 3)"
   ]
  },
  {
   "cell_type": "code",
   "execution_count": 49,
   "id": "371c5e33-1eca-4821-8800-2bd05417885d",
   "metadata": {},
   "outputs": [
    {
     "data": {
      "text/plain": [
       "59.0"
      ]
     },
     "execution_count": 49,
     "metadata": {},
     "output_type": "execute_result"
    }
   ],
   "source": [
    "convert_C_or_K_to_F(15, temperatureC=True)"
   ]
  },
  {
   "cell_type": "code",
   "execution_count": 52,
   "id": "40cd1d7f-4199-4e42-a798-5794107e7b7b",
   "metadata": {},
   "outputs": [
    {
     "data": {
      "text/plain": [
       "80.33000000000004"
      ]
     },
     "execution_count": 52,
     "metadata": {},
     "output_type": "execute_result"
    }
   ],
   "source": [
    "convert_C_or_K_to_F (300, temperatureC=False)"
   ]
  },
  {
   "cell_type": "markdown",
   "id": "334f1e2c-cbb8-4ca8-92ba-2e7cc6c76dd4",
   "metadata": {},
   "source": [
    "#### 4)"
   ]
  },
  {
   "cell_type": "code",
   "execution_count": 22,
   "id": "4afa88b5-4077-4312-a9bc-8f0894f7e0c0",
   "metadata": {},
   "outputs": [],
   "source": [
    "def convert_F_to_C_or_K (temperature, temperatureC=False):\n",
    "    \"\"\"A function to return F temperature to C or K\"\"\"\n",
    "    if temperatureC:\n",
    "        temperatureFinal = ((temperature-32) *5/9) \n",
    "    else: \n",
    "        temperatureFinal = ((temperature -32) *5/9) +273.15\n",
    "    return temperatureFinal"
   ]
  },
  {
   "cell_type": "code",
   "execution_count": 23,
   "id": "297723f1-5c77-48b9-babb-ea13eb47f6b3",
   "metadata": {},
   "outputs": [
    {
     "data": {
      "text/plain": [
       "0.0"
      ]
     },
     "execution_count": 23,
     "metadata": {},
     "output_type": "execute_result"
    }
   ],
   "source": [
    "convert_F_to_C_or_K (32, temperatureC=True)"
   ]
  },
  {
   "cell_type": "code",
   "execution_count": 24,
   "id": "dcac2ecd-735c-4804-b980-26b83308d48f",
   "metadata": {},
   "outputs": [
    {
     "data": {
      "text/plain": [
       "273.15"
      ]
     },
     "execution_count": 24,
     "metadata": {},
     "output_type": "execute_result"
    }
   ],
   "source": [
    "convert_F_to_C_or_K (32, temperatureC=False)"
   ]
  },
  {
   "cell_type": "markdown",
   "id": "98bd37b5-859c-4013-ae15-09a46d7739ad",
   "metadata": {},
   "source": [
    "#### 5)"
   ]
  },
  {
   "cell_type": "code",
   "execution_count": 25,
   "id": "16038adf-e18e-483a-b65d-4f109deb38a9",
   "metadata": {},
   "outputs": [],
   "source": [
    "def convert_ftin_to_m (feet, inches):\n",
    "    return (feet * 0.3048) + (inches * 0.0254)"
   ]
  },
  {
   "cell_type": "code",
   "execution_count": 26,
   "id": "97ca039f-8035-4a55-8842-c1c6d6d49ab5",
   "metadata": {},
   "outputs": [
    {
     "data": {
      "text/plain": [
       "1.651"
      ]
     },
     "execution_count": 26,
     "metadata": {},
     "output_type": "execute_result"
    }
   ],
   "source": [
    "convert_ftin_to_m (5, 5)"
   ]
  },
  {
   "cell_type": "markdown",
   "id": "e527840f-74ec-4e76-8eea-369a09b59bc5",
   "metadata": {},
   "source": [
    "#### 6)"
   ]
  },
  {
   "cell_type": "code",
   "execution_count": 32,
   "id": "41083abc-a2d6-4411-9884-a5b853949d44",
   "metadata": {},
   "outputs": [],
   "source": [
    "def convert_m_to_ftin (meter):\n",
    "    inch = meter / 0.0254\n",
    "    ftin = inch % 12\n",
    "    feet = int (inch/12)\n",
    "    return feet, ftin"
   ]
  },
  {
   "cell_type": "code",
   "execution_count": 33,
   "id": "92ca75dc-98b1-4007-9003-78d65d146d68",
   "metadata": {},
   "outputs": [
    {
     "data": {
      "text/plain": [
       "(5, 5.0)"
      ]
     },
     "execution_count": 33,
     "metadata": {},
     "output_type": "execute_result"
    }
   ],
   "source": [
    "convert_m_to_ftin (1.651)"
   ]
  },
  {
   "cell_type": "markdown",
   "id": "f2a42912-8d05-4232-8de2-e9e0dc8844b8",
   "metadata": {},
   "source": [
    "#### 7)"
   ]
  },
  {
   "cell_type": "code",
   "execution_count": 35,
   "id": "b0d3be0b-9573-4c18-a648-62b6376a9155",
   "metadata": {},
   "outputs": [
    {
     "data": {
      "text/plain": [
       "(8, 9.118110236220474)"
      ]
     },
     "execution_count": 35,
     "metadata": {},
     "output_type": "execute_result"
    }
   ],
   "source": [
    "convert_m_to_ftin (2.67)"
   ]
  },
  {
   "cell_type": "code",
   "execution_count": 36,
   "id": "f7f8b1e8-2b99-4fad-9fe1-661efc0ec854",
   "metadata": {},
   "outputs": [
    {
     "data": {
      "text/plain": [
       "2.67"
      ]
     },
     "execution_count": 36,
     "metadata": {},
     "output_type": "execute_result"
    }
   ],
   "source": [
    "convert_ftin_to_m (8, 9.118110236220474)"
   ]
  },
  {
   "cell_type": "code",
   "execution_count": 37,
   "id": "cd7bb550-e0e3-4d11-a65a-ef784cf0f907",
   "metadata": {},
   "outputs": [
    {
     "data": {
      "text/plain": [
       "(55, 9.291338582677213)"
      ]
     },
     "execution_count": 37,
     "metadata": {},
     "output_type": "execute_result"
    }
   ],
   "source": [
    "convert_m_to_ftin (17)"
   ]
  },
  {
   "cell_type": "code",
   "execution_count": 39,
   "id": "1f557412-8c06-4db9-8abd-3b3cd117a9fb",
   "metadata": {},
   "outputs": [
    {
     "data": {
      "text/plain": [
       "17.0"
      ]
     },
     "execution_count": 39,
     "metadata": {},
     "output_type": "execute_result"
    }
   ],
   "source": [
    "convert_ftin_to_m (55, 9.291338582677213)"
   ]
  },
  {
   "cell_type": "code",
   "execution_count": 40,
   "id": "113d4afd-d988-4e0c-b3f9-e4bb6f5f90ac",
   "metadata": {},
   "outputs": [
    {
     "data": {
      "text/plain": [
       "(328, 1.007874015748257)"
      ]
     },
     "execution_count": 40,
     "metadata": {},
     "output_type": "execute_result"
    }
   ],
   "source": [
    "convert_m_to_ftin (100)"
   ]
  },
  {
   "cell_type": "code",
   "execution_count": 41,
   "id": "360acd9b-4f9e-45a9-b8a3-c55aec0afd6a",
   "metadata": {},
   "outputs": [
    {
     "data": {
      "text/plain": [
       "100.00000000000001"
      ]
     },
     "execution_count": 41,
     "metadata": {},
     "output_type": "execute_result"
    }
   ],
   "source": [
    "convert_ftin_to_m (328, 1.007874015748257)"
   ]
  },
  {
   "cell_type": "code",
   "execution_count": null,
   "id": "5a815276-ce94-48ca-8b3e-5a54ac24e120",
   "metadata": {},
   "outputs": [],
   "source": []
  }
 ],
 "metadata": {
  "kernelspec": {
   "display_name": "pangeo23",
   "language": "python",
   "name": "pangeo23"
  },
  "language_info": {
   "codemirror_mode": {
    "name": "ipython",
    "version": 3
   },
   "file_extension": ".py",
   "mimetype": "text/x-python",
   "name": "python",
   "nbconvert_exporter": "python",
   "pygments_lexer": "ipython3",
   "version": "3.11.6"
  }
 },
 "nbformat": 4,
 "nbformat_minor": 5
}
