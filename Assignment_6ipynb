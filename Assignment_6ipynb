{
 "cells": [
  {
   "cell_type": "code",
   "execution_count": 213,
   "id": "591a69bf-0def-4b46-b0ff-0a4c22c11381",
   "metadata": {},
   "outputs": [],
   "source": [
    "import numpy as np\n",
    "from scipy.integrate import solve_ivp\n",
    "from matplotlib import pyplot as plt"
   ]
  },
  {
   "cell_type": "code",
   "execution_count": 214,
   "id": "89ecc11a-e2ed-4199-b6f6-5b3e1b65c915",
   "metadata": {},
   "outputs": [],
   "source": [
    "a_o = 0.289\n",
    "a_i = 0.7\n",
    "T_o = 293\n",
    "T_i = 260\n",
    "a = albedo"
   ]
  },
  {
   "cell_type": "markdown",
   "id": "196a23e6-f3f8-4d01-b8b2-03e696cf9967",
   "metadata": {},
   "source": [
    "## Part A"
   ]
  },
  {
   "cell_type": "markdown",
   "id": "2c8a4ffe-a67e-4f25-962a-240a56f4b638",
   "metadata": {},
   "source": [
    "##### Define a Function"
   ]
  },
  {
   "cell_type": "code",
   "execution_count": 215,
   "id": "35037d30-907c-4c5d-ad55-c6bcddb8edd4",
   "metadata": {},
   "outputs": [],
   "source": [
    "def albedo(T):\n",
    "    if T <= T_i:\n",
    "        return a_i\n",
    "    elif T_i < T < T_o:\n",
    "        return (a_o + (a_i-a_o)*(((T-T_o)**2)/((T_i-T_o)**2)))\n",
    "    elif T>=T_o:\n",
    "        return a_o"
   ]
  },
  {
   "cell_type": "markdown",
   "id": "e88be82a-e4dc-4491-8c37-14f763521b6f",
   "metadata": {},
   "source": [
    "##### Calculate Albedo for T=250 K to T=300K"
   ]
  },
  {
   "cell_type": "code",
   "execution_count": 216,
   "id": "90990ccb-2788-4ca9-a916-623482105262",
   "metadata": {},
   "outputs": [],
   "source": [
    "Planetary_Temps = np.linspace(250,300, 100)\n",
    "results = []\n",
    "Planetary_Temps\n",
    "for T in Planetary_Temps:\n",
    "    results.append(albedo(T))"
   ]
  },
  {
   "cell_type": "markdown",
   "id": "8adfa8b6-f5af-4afc-967d-5178daf265aa",
   "metadata": {},
   "source": [
    "##### Results"
   ]
  },
  {
   "cell_type": "code",
   "execution_count": 217,
   "id": "cce481f4-8d64-49eb-b5d3-33a537000b32",
   "metadata": {},
   "outputs": [],
   "source": [
    "global_mean_temp = 288"
   ]
  },
  {
   "cell_type": "code",
   "execution_count": 218,
   "id": "72d7546e-2ed3-48f9-8081-51469b559ea5",
   "metadata": {},
   "outputs": [
    {
     "data": {
      "text/plain": [
       "Text(0.5, 1.0, 'Albedo as a Function of Global Mean Temperature')"
      ]
     },
     "execution_count": 218,
     "metadata": {},
     "output_type": "execute_result"
    },
    {
     "data": {
      "image/png": "[encoded data removed]",
      "text/plain": [
       "<Figure size 640x480 with 1 Axes>"
      ]
     },
     "metadata": {},
     "output_type": "display_data"
    }
   ],
   "source": [
    "fig, ax = plt.subplots()\n",
    "ax.margins(x=0)\n",
    "ax.plot(Planetary_Temps, results, 'deepskyblue')\n",
    "ax.set_xlabel('Temperature (Celcius)')\n",
    "ax.set_ylabel('Albedo')\n",
    "ax.set_title('Albedo as a Function of Global Mean Temperature')"
   ]
  },
  {
   "cell_type": "markdown",
   "id": "01d626ef-1638-4e45-8707-bbf960bfa321",
   "metadata": {},
   "source": [
    "## Part B"
   ]
  },
  {
   "cell_type": "code",
   "execution_count": 219,
   "id": "99f49ede-c2df-41ad-ab99-379c3a092179",
   "metadata": {},
   "outputs": [],
   "source": [
    "M = 2\n",
    "solarconstant = 1366\n",
    "stefanboltzmann = 5.670374419e-8\n",
    "heatcapacity = 4.0e8\n",
    "epsilon_new = 0.8"
   ]
  },
  {
   "cell_type": "code",
   "execution_count": 220,
   "id": "805cfd62-2960-4e9e-ac85-e777e9029916",
   "metadata": {},
   "outputs": [],
   "source": [
    "def new_temp(t,u):\n",
    "    f=np.zeros((M,))\n",
    "    f[0] = (solarconstant * (1-albedo(u[1]))/4 - epsilon_new*stefanboltzmann*(u[0]**4) - (1-epsilon_new)*stefanboltzmann*(u[1]**4))/heatcapacity\n",
    "    f[1] = (solarconstant * (1-albedo(u[1]))/4 + epsilon_new*stefanboltzmann*(u[0]**4) - stefanboltzmann*(u[1]**4))/heatcapacity\n",
    "    return f\n",
    "u0 = [244,288]\n",
    "t0 = 0"
   ]
  },
  {
   "cell_type": "code",
   "execution_count": 221,
   "id": "57599c9b-474a-497e-bf9d-e3551ecac12e",
   "metadata": {},
   "outputs": [],
   "source": [
    "Dt = 60*60*365*24\n",
    "tmax = 100*Dt\n",
    "t = np.arange(t0,tmax,Dt)"
   ]
  },
  {
   "cell_type": "code",
   "execution_count": 222,
   "id": "b0eb390e-d74c-4222-b448-845d88169a5b",
   "metadata": {},
   "outputs": [],
   "source": [
    "solve_new_temp = solve_ivp(new_temp, [t0,tmax], u0, method='RK45', t_eval=t)"
   ]
  },
  {
   "cell_type": "code",
   "execution_count": 223,
   "id": "e57c3e9b-8bb9-43b6-b4c4-518119980536",
   "metadata": {},
   "outputs": [
    {
     "name": "stdout",
     "output_type": "stream",
     "text": [
      "The temperature difference is 2.3042 K with an original temperature of 288.2738 K and a final temperature of 290.5780 degrees.\n"
     ]
    }
   ],
   "source": [
    "T_New = solve_new_temp.y[1,-1]\n",
    "T_Old = 288.2738\n",
    "Temp_Diff = T_New - T_Old\n",
    "print(\"The temperature difference is %0.4f K with an original temperature of %0.4f K and a final temperature of %0.4f degrees.\" % (Temp_Diff, T_Old, T_New))"
   ]
  }
 ],
 "metadata": {
  "kernelspec": {
   "display_name": "pangeo23",
   "language": "python",
   "name": "pangeo23"
  },
  "language_info": {
   "codemirror_mode": {
    "name": "ipython",
    "version": 3
   },
   "file_extension": ".py",
   "mimetype": "text/x-python",
   "name": "python",
   "nbconvert_exporter": "python",
   "pygments_lexer": "ipython3",
   "version": "3.11.6"
  }
 },
 "nbformat": 4,
 "nbformat_minor": 5
}
